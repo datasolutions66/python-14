{
  "nbformat": 4,
  "nbformat_minor": 0,
  "metadata": {
    "colab": {
      "provenance": []
    },
    "kernelspec": {
      "name": "python3",
      "display_name": "Python 3"
    },
    "language_info": {
      "name": "python"
    }
  },
  "cells": [
    {
      "cell_type": "markdown",
      "source": [
        "#Summary:-\n",
        "\n",
        "##Function Example\n",
        "##Dictionary\n",
        "##Extract Email id\n",
        "##Add New Key Value\n",
        "##Update Value\n",
        "##Delete any Key Value\n",
        "##pop\n",
        "##Make a Function that can take input of any number of key and value pair\n",
        "##Function within a Function\n",
        "##Decorator\n"
      ],
      "metadata": {
        "id": "ioM_uOnJHD2B"
      }
    },
    {
      "cell_type": "markdown",
      "source": [
        "##Function Example"
      ],
      "metadata": {
        "id": "8RW1Z-cYI_KA"
      }
    },
    {
      "cell_type": "code",
      "execution_count": null,
      "metadata": {
        "colab": {
          "base_uri": "https://localhost:8080/"
        },
        "id": "bY1WclOAGrtV",
        "outputId": "8cd6c964-5948-4fe2-cec4-bf54014e2295"
      },
      "outputs": [
        {
          "output_type": "execute_result",
          "data": {
            "text/plain": [
              "[1, 2, 3, 4, 'Dipanjan', (2+3j)]"
            ]
          },
          "metadata": {},
          "execution_count": 1
        }
      ],
      "source": [
        "def test(*args):    #You can pass any Data type here\n",
        "  return list(args)\n",
        "test(1,2,3,4,\"Dipanjan\", 2+3j)"
      ]
    },
    {
      "cell_type": "markdown",
      "source": [
        "##Dictionary\n",
        "###Keys can not be Duplicate in Dictionary"
      ],
      "metadata": {
        "id": "h4NDcHp3XBfB"
      }
    },
    {
      "cell_type": "code",
      "source": [
        "d1 = {\"key1\": \"Sudh\", \"key2\": [2,3,4,5]}\n",
        "\n",
        "d1"
      ],
      "metadata": {
        "id": "hhuvbDuUJX6Q",
        "colab": {
          "base_uri": "https://localhost:8080/"
        },
        "outputId": "f595b0da-8bfe-4405-f6f1-0018ae6caba4"
      },
      "execution_count": null,
      "outputs": [
        {
          "output_type": "execute_result",
          "data": {
            "text/plain": [
              "{'key1': 'Sudh', 'key2': [2, 3, 4, 5]}"
            ]
          },
          "metadata": {},
          "execution_count": 3
        }
      ]
    },
    {
      "cell_type": "code",
      "source": [
        "type(d1)"
      ],
      "metadata": {
        "colab": {
          "base_uri": "https://localhost:8080/"
        },
        "id": "irUtuygzXiXY",
        "outputId": "19964b06-ed07-458b-c11f-3c106010c4e4"
      },
      "execution_count": null,
      "outputs": [
        {
          "output_type": "execute_result",
          "data": {
            "text/plain": [
              "dict"
            ]
          },
          "metadata": {},
          "execution_count": 4
        }
      ]
    },
    {
      "cell_type": "code",
      "source": [
        "d2 = {\"name\": \"Dipanjan\", \"org\": \"iNeuron\", \"mail id\": \"sudhansu@iNeuron.ai\", \"name1\": \"sudh\"}\n",
        "\n",
        "d2"
      ],
      "metadata": {
        "colab": {
          "base_uri": "https://localhost:8080/"
        },
        "id": "ey_i9VO4YyQY",
        "outputId": "68e999a6-2cc3-4c60-ea96-b0ccd7a48534"
      },
      "execution_count": null,
      "outputs": [
        {
          "output_type": "execute_result",
          "data": {
            "text/plain": [
              "{'name': 'Dipanjan',\n",
              " 'org': 'iNeuron',\n",
              " 'mail id': 'sudhansu@iNeuron.ai',\n",
              " 'name1': 'sudh'}"
            ]
          },
          "metadata": {},
          "execution_count": 5
        }
      ]
    },
    {
      "cell_type": "markdown",
      "source": [
        "###Extract Email id"
      ],
      "metadata": {
        "id": "hojfBloSbAVZ"
      }
    },
    {
      "cell_type": "code",
      "source": [
        "d2 = {\"name\": \"Dipanjan\", \"org\": \"iNeuron\", \"mail id\": \"sudhansu@iNeuron.ai\", \"name1\": \"sudh\"}\n",
        "\n",
        "d2[\"mail id\"]   #To access element, mention Key Name"
      ],
      "metadata": {
        "colab": {
          "base_uri": "https://localhost:8080/",
          "height": 35
        },
        "id": "XxfmTajTa8kh",
        "outputId": "aaea405c-3758-4549-ce04-df422a48e46f"
      },
      "execution_count": null,
      "outputs": [
        {
          "output_type": "execute_result",
          "data": {
            "text/plain": [
              "'sudhansu@iNeuron.ai'"
            ],
            "application/vnd.google.colaboratory.intrinsic+json": {
              "type": "string"
            }
          },
          "metadata": {},
          "execution_count": 6
        }
      ]
    },
    {
      "cell_type": "code",
      "source": [
        "d2.keys()   #Give all the Keys (inbuilt Function)"
      ],
      "metadata": {
        "colab": {
          "base_uri": "https://localhost:8080/"
        },
        "id": "O_CE1aPwbTvj",
        "outputId": "f9e90695-4ee7-408e-85c8-14ab043ab5de"
      },
      "execution_count": null,
      "outputs": [
        {
          "output_type": "execute_result",
          "data": {
            "text/plain": [
              "dict_keys(['name', 'org', 'mail id', 'name1'])"
            ]
          },
          "metadata": {},
          "execution_count": 7
        }
      ]
    },
    {
      "cell_type": "markdown",
      "source": [
        "###Add New Key Value"
      ],
      "metadata": {
        "id": "BUTiL-_ye1iZ"
      }
    },
    {
      "cell_type": "code",
      "source": [
        "d2 = {\"name\": \"Dipanjan\", \"org\": \"iNeuron\", \"mail id\": \"sudhansu@iNeuron.ai\", \"name1\": \"sudh\"}\n",
        "\n",
        "d2[\"mobileNumber\"] = (123,456,7895)\n",
        "\n",
        "d2"
      ],
      "metadata": {
        "colab": {
          "base_uri": "https://localhost:8080/"
        },
        "id": "Dxj8ehuockxp",
        "outputId": "b14914a7-8e85-4d64-e2da-806c1a74b73e"
      },
      "execution_count": null,
      "outputs": [
        {
          "output_type": "execute_result",
          "data": {
            "text/plain": [
              "{'name': 'Dipanjan',\n",
              " 'org': 'iNeuron',\n",
              " 'mail id': 'sudhansu@iNeuron.ai',\n",
              " 'name1': 'sudh',\n",
              " 'mobileNumber': (123, 456, 7895)}"
            ]
          },
          "metadata": {},
          "execution_count": 8
        }
      ]
    },
    {
      "cell_type": "code",
      "source": [
        "d2 = {\"name\": \"Dipanjan\", \"org\": \"iNeuron\", \"mail id\": \"sudhansu@iNeuron.ai\", \"name1\": \"sudh\"}\n",
        "\n",
        "d2[\"profession\"] = \"Coding\"\n",
        "\n",
        "d2"
      ],
      "metadata": {
        "colab": {
          "base_uri": "https://localhost:8080/"
        },
        "id": "xNlV4KI9nwXt",
        "outputId": "fa561db1-4541-4555-b666-9e97c668b02c"
      },
      "execution_count": null,
      "outputs": [
        {
          "output_type": "execute_result",
          "data": {
            "text/plain": [
              "{'name': 'Dipanjan',\n",
              " 'org': 'iNeuron',\n",
              " 'mail id': 'sudhansu@iNeuron.ai',\n",
              " 'name1': 'sudh',\n",
              " 'profession': 'Coding'}"
            ]
          },
          "metadata": {},
          "execution_count": 13
        }
      ]
    },
    {
      "cell_type": "markdown",
      "source": [
        "###Update Value"
      ],
      "metadata": {
        "id": "-oexhiTNmBN9"
      }
    },
    {
      "cell_type": "code",
      "source": [
        "d2 = {\"name\": \"Dipanjan\", \"org\": \"iNeuron\", \"mail id\": \"sudhansu@iNeuron.ai\", \"name1\": \"sudh\"}\n",
        "\n",
        "d2[\"name\"] = \"Dipanjan Das\"\n",
        "\n",
        "d2"
      ],
      "metadata": {
        "id": "hheFJbuKfLES",
        "colab": {
          "base_uri": "https://localhost:8080/"
        },
        "outputId": "f2253922-2929-4eaa-9c0a-4f0635fcf1c5"
      },
      "execution_count": null,
      "outputs": [
        {
          "output_type": "execute_result",
          "data": {
            "text/plain": [
              "{'name': 'Dipanjan Das',\n",
              " 'org': 'iNeuron',\n",
              " 'mail id': 'sudhansu@iNeuron.ai',\n",
              " 'name1': 'sudh'}"
            ]
          },
          "metadata": {},
          "execution_count": 9
        }
      ]
    },
    {
      "cell_type": "markdown",
      "source": [
        "###Delete any Key Value"
      ],
      "metadata": {
        "id": "xf40MBQVmzwc"
      }
    },
    {
      "cell_type": "code",
      "source": [
        "d2 = {\"name\": \"Dipanjan\", \"org\": \"iNeuron\", \"mail id\": \"sudhansu@iNeuron.ai\", \"name1\": \"sudh\"}\n",
        "\n",
        "del d2[\"org\"]\n",
        "\n",
        "d2"
      ],
      "metadata": {
        "colab": {
          "base_uri": "https://localhost:8080/"
        },
        "id": "TtlFLSxhmR6t",
        "outputId": "5baa9085-a4bf-4b39-bbf8-225d4a789e2a"
      },
      "execution_count": null,
      "outputs": [
        {
          "output_type": "execute_result",
          "data": {
            "text/plain": [
              "{'name': 'Dipanjan', 'mail id': 'sudhansu@iNeuron.ai', 'name1': 'sudh'}"
            ]
          },
          "metadata": {},
          "execution_count": 11
        }
      ]
    },
    {
      "cell_type": "markdown",
      "source": [
        "###pop:- Delete Last Key Value"
      ],
      "metadata": {
        "id": "AvmcUY5NnSuU"
      }
    },
    {
      "cell_type": "code",
      "source": [
        "d2 = {\"name\": \"Dipanjan\", \"org\": \"iNeuron\", \"mail id\": \"sudhansu@iNeuron.ai\", \"name1\": \"sudh\"}\n",
        "\n",
        "d2.pop(\"name1\")\n",
        "\n",
        "d2"
      ],
      "metadata": {
        "colab": {
          "base_uri": "https://localhost:8080/"
        },
        "id": "Oqpyzjixm_SM",
        "outputId": "74106548-d3a0-4f6e-de33-02a13d22202a"
      },
      "execution_count": null,
      "outputs": [
        {
          "output_type": "execute_result",
          "data": {
            "text/plain": [
              "{'name': 'Dipanjan', 'org': 'iNeuron', 'mail id': 'sudhansu@iNeuron.ai'}"
            ]
          },
          "metadata": {},
          "execution_count": 12
        }
      ]
    },
    {
      "cell_type": "markdown",
      "source": [
        "###Make a Function that can take input of any number of key and value pair"
      ],
      "metadata": {
        "id": "kh0iLLV0pBQd"
      }
    },
    {
      "cell_type": "code",
      "source": [
        "def test1(**kwargs):   #keyword pair arguments\n",
        "  return kwargs\n",
        "test1(a=3, b=5, c=6, das=7)\n"
      ],
      "metadata": {
        "colab": {
          "base_uri": "https://localhost:8080/"
        },
        "id": "rzWsp2ryndk8",
        "outputId": "785e5e27-87e3-4d6c-8ce9-9796fc77b9fc"
      },
      "execution_count": null,
      "outputs": [
        {
          "output_type": "execute_result",
          "data": {
            "text/plain": [
              "{'a': 3, 'b': 5, 'c': 6, 'das': 7}"
            ]
          },
          "metadata": {},
          "execution_count": 14
        }
      ]
    },
    {
      "cell_type": "markdown",
      "source": [
        "###Function within a Function"
      ],
      "metadata": {
        "id": "itmGZ869rfLN"
      }
    },
    {
      "cell_type": "code",
      "source": [
        "def test12(a):\n",
        "  return a\n",
        "\n",
        "def test13(b):\n",
        "  return b\n",
        "\n",
        "def test14(func):\n",
        "  return func(\"sudh\")\n",
        "\n",
        "test14(test12)"
      ],
      "metadata": {
        "colab": {
          "base_uri": "https://localhost:8080/",
          "height": 35
        },
        "id": "uGkTuukVqprs",
        "outputId": "28c6875e-7112-4d51-a523-99f5e95595d2"
      },
      "execution_count": null,
      "outputs": [
        {
          "output_type": "execute_result",
          "data": {
            "text/plain": [
              "'sudh'"
            ],
            "application/vnd.google.colaboratory.intrinsic+json": {
              "type": "string"
            }
          },
          "metadata": {},
          "execution_count": 15
        }
      ]
    },
    {
      "cell_type": "code",
      "source": [
        "test14(test13)"
      ],
      "metadata": {
        "colab": {
          "base_uri": "https://localhost:8080/",
          "height": 35
        },
        "id": "i8gGlYtcse8V",
        "outputId": "894e429c-cf45-4714-8f09-11447aa7734c"
      },
      "execution_count": null,
      "outputs": [
        {
          "output_type": "execute_result",
          "data": {
            "text/plain": [
              "'sudh'"
            ],
            "application/vnd.google.colaboratory.intrinsic+json": {
              "type": "string"
            }
          },
          "metadata": {},
          "execution_count": 16
        }
      ]
    },
    {
      "cell_type": "markdown",
      "source": [
        "###Decorator:- To Reutilize a Code"
      ],
      "metadata": {
        "id": "8STuHMfiw2el"
      }
    },
    {
      "cell_type": "code",
      "source": [
        "def test18(func):\n",
        "  def test19():\n",
        "    print(\"I am inside test19 and this will bahave a Decorator to any Function that I am going to call\")\n",
        "    func()\n",
        "  return test19()\n",
        "\n",
        "\n",
        "@test18         #Decorated like this (Pi simbol). Calling other Function here.\n",
        "def test20():\n",
        "  print(\"This is my test20\")\n",
        "\n",
        "\n"
      ],
      "metadata": {
        "colab": {
          "base_uri": "https://localhost:8080/"
        },
        "id": "X8fqr5Ols68c",
        "outputId": "4ec811c7-8c1d-4814-b635-fc52bfa15a7f"
      },
      "execution_count": null,
      "outputs": [
        {
          "output_type": "stream",
          "name": "stdout",
          "text": [
            "I am inside test19 and this will bahave a Decorator to any Function that I am going to call\n",
            "This is my test20\n"
          ]
        }
      ]
    },
    {
      "cell_type": "code",
      "source": [],
      "metadata": {
        "id": "UlxCmE8v0AcM"
      },
      "execution_count": null,
      "outputs": []
    }
  ]
}